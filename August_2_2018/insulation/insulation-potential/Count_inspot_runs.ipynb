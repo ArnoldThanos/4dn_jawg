{
 "cells": [
  {
   "cell_type": "code",
   "execution_count": 38,
   "metadata": {},
   "outputs": [],
   "source": [
    "import pandas as pd\n",
    "import numpy as np\n",
    "import matplotlib.pyplot as plt\n",
    "%matplotlib inline"
   ]
  },
  {
   "cell_type": "code",
   "execution_count": 160,
   "metadata": {},
   "outputs": [],
   "source": [
    "def find_nonzero_runs(sequence):\n",
    "    seq = np.asarray(sequence, dtype=np.bool)\n",
    "    assert (seq.ndim == 1)\n",
    "    nonzeros, = np.nonzero(seq)\n",
    "    run_start_idx = np.ones_like(nonzeros, dtype=np.bool)\n",
    "    run_stop_idx  = np.ones_like(nonzeros, dtype=np.bool)\n",
    "    # shift and subtract to find gaps:\n",
    "    shifts = ((nonzeros[1:] - nonzeros[:-1])>1)\n",
    "    run_start_idx[1:] = shifts\n",
    "    run_stop_idx[:-1] = shifts\n",
    "    # return starts, and length\n",
    "    run_start = nonzeros[run_start_idx]\n",
    "    run_stop  = nonzeros[run_stop_idx]\n",
    "    run_lengths = run_stop - run_start + 1\n",
    "    # returning ...\n",
    "    return run_start, run_lengths\n",
    "\n",
    "\n",
    "def transform_bed(df,value_id=3,value_threhsold=-0.000001):\n",
    "    \"\"\"\n",
    "    feed one chromosome at a time in here.\n",
    "    \"\"\"\n",
    "    strt,lens = find_nonzero_runs(df[value_id]<value_threhsold)\n",
    "    stps = strt + lens-1\n",
    "    ins_starts = df[1].iloc[strt].values\n",
    "    ins_stops = df[2].iloc[stps].values\n",
    "    ins_chr1 = df[0].iloc[strt].values\n",
    "    ins_chr2 = df[0].iloc[stps].values\n",
    "    assert (ins_chr1 == ins_chr2).all()\n",
    "    return pd.DataFrame({\"chrom\":ins_chr1,\"start\":ins_starts,\"stop\":ins_stops})\n",
    "    \n",
    "    \n",
    "    \n",
    "def transform_bed_genome(df,chrom_id=0):\n",
    "    chroms = df[chrom_id].unique()\n",
    "    df_chr_tr = []\n",
    "    for chrom in chroms:\n",
    "        df_chr = df[df[chrom_id]==chrom]\n",
    "        df_chr_tr.append(transform_bed(df_chr))\n",
    "    return pd.concat(df_chr_tr)\n",
    "        \n",
    "      \n"
   ]
  },
  {
   "cell_type": "code",
   "execution_count": 239,
   "metadata": {},
   "outputs": [
    {
     "name": "stdout",
     "output_type": "stream",
     "text": [
      "Count_inspot_runs.ipynb\r\n",
      "U54-ESC4DN-FA-DpnII-2017524-R1.inspot.tab\r\n",
      "U54-ESC4DN-FA-DpnII-2017524-R1-R2.inspot.tab\r\n",
      "U54-ESC4DN-FA-DpnII-2017524-R2.inspot.tab\r\n",
      "U54-HFFc6-p17-FA-DpnII-20170327_hg38.inspot.tab\r\n",
      "U54-HFFc6-p17-FA-DpnII-20170327_hg38.inspot.tab.bed\r\n",
      "U54-HFFc6-p17-p22-FA-DpnII-20170327_hg38.inspot.tab\r\n",
      "U54-HFFc6-p17-p22-FA-DpnII-20170327_hg38.inspot.tab.bed\r\n",
      "U54-HFFc6-p22-FA-DpnII-20170327_hg38.inspot.tab\r\n",
      "U54-HFFc6-p22-FA-DpnII-20170327_hg38.inspot.tab.bed\r\n"
     ]
    }
   ],
   "source": [
    "ls\n"
   ]
  },
  {
   "cell_type": "code",
   "execution_count": 241,
   "metadata": {},
   "outputs": [],
   "source": [
    "t1 = 'U54-ESC4DN-FA-DpnII-2017524-R1.inspot.tab'\n",
    "t12 = 'U54-ESC4DN-FA-DpnII-2017524-R1-R2.inspot.tab'\n",
    "t2 = 'U54-ESC4DN-FA-DpnII-2017524-R2.inspot.tab'\n",
    "\n",
    "\n",
    "f1 = 'U54-HFFc6-p17-FA-DpnII-20170327_hg38.inspot.tab'\n",
    "f2 = 'U54-HFFc6-p22-FA-DpnII-20170327_hg38.inspot.tab'\n",
    "f12 = 'U54-HFFc6-p17-p22-FA-DpnII-20170327_hg38.inspot.tab'\n",
    "\n",
    "fs = [f1,f2,f12]\n",
    "\n",
    "for f in fs:\n",
    "    df = pd.read_table(f,header=None)\n",
    "    transform_bed_genome(df).to_csv(f+'.bed',sep='\\t',header=None,index=None)\n",
    "\n",
    "    \n",
    "ts = [t1,t2,t12]\n",
    "\n",
    "for t in ts:\n",
    "    df = pd.read_table(t,header=None)\n",
    "    transform_bed_genome(df).to_csv(t+'.bed',sep='\\t',header=None,index=None)\n",
    "\n",
    "\n"
   ]
  },
  {
   "cell_type": "code",
   "execution_count": 246,
   "metadata": {},
   "outputs": [
    {
     "name": "stdout",
     "output_type": "stream",
     "text": [
      "19891 U54-HFFc6-p17-FA-DpnII-20170327_hg38.inspot.tab.bed\n",
      "21698 U54-HFFc6-p22-FA-DpnII-20170327_hg38.inspot.tab.bed\n",
      "17701\n"
     ]
    }
   ],
   "source": [
    "! wc -l $f1'.bed'\n",
    "! wc -l $f2'.bed'\n",
    "!bed_intersect_basewise.py $f1'.bed'  $f2'.bed' |wc -l"
   ]
  },
  {
   "cell_type": "code",
   "execution_count": 245,
   "metadata": {},
   "outputs": [
    {
     "name": "stdout",
     "output_type": "stream",
     "text": [
      "24850 U54-ESC4DN-FA-DpnII-2017524-R1.inspot.tab.bed\n",
      "25666 U54-ESC4DN-FA-DpnII-2017524-R2.inspot.tab.bed\n",
      "23360\n"
     ]
    }
   ],
   "source": [
    "! wc -l $t1'.bed'\n",
    "! wc -l $t2'.bed'\n",
    "!bed_intersect_basewise.py $t1'.bed'  $t2'.bed' |wc -l"
   ]
  },
  {
   "cell_type": "code",
   "execution_count": 248,
   "metadata": {},
   "outputs": [
    {
     "data": {
      "text/plain": [
       "0.8157894736842105"
      ]
     },
     "execution_count": 248,
     "metadata": {},
     "output_type": "execute_result"
    }
   ],
   "source": [
    "17701/21698\n"
   ]
  },
  {
   "cell_type": "code",
   "execution_count": 247,
   "metadata": {},
   "outputs": [
    {
     "data": {
      "text/plain": [
       "0.9101535104807917"
      ]
     },
     "execution_count": 247,
     "metadata": {},
     "output_type": "execute_result"
    }
   ],
   "source": [
    "23360/25666"
   ]
  },
  {
   "cell_type": "code",
   "execution_count": 141,
   "metadata": {},
   "outputs": [
    {
     "data": {
      "text/plain": [
       "[<matplotlib.lines.Line2D at 0x7ff98bffa0f0>]"
      ]
     },
     "execution_count": 141,
     "metadata": {},
     "output_type": "execute_result"
    },
    {
     "data": {
      "image/png": "[encoded data removed]",
      "text/plain": [
       "<Figure size 432x576 with 2 Axes>"
      ]
     },
     "metadata": {},
     "output_type": "display_data"
    }
   ],
   "source": [
    "# for i in df[3][1013:1021]:\n",
    "#     print(i<-0.0001)\n",
    "\n",
    "start,stop = 750, 900\n",
    "\n",
    "\n",
    "dfff = np.zeros_like(df[3])\n",
    "dfff[rrr] = 1\n",
    "\n",
    "# rrr_within = rrr[(rrr>=start)&(rrr<=stop)]\n",
    "# print(rrr_within)\n",
    "# print(np.ones_like(rrr_within))\n",
    "\n",
    "f,axs = plt.subplots(nrows=2,sharex=True,figsize=(6,8))\n",
    "ax1,ax2 = axs\n",
    "\n",
    "x = df[3][start:stop].index\n",
    "\n",
    "ax1.plot(x,df[3][start:stop])\n",
    "ax2.plot(x,dfff[start:stop])\n"
   ]
  },
  {
   "cell_type": "code",
   "execution_count": 143,
   "metadata": {},
   "outputs": [
    {
     "data": {
      "text/plain": [
       "19869"
      ]
     },
     "execution_count": 143,
     "metadata": {},
     "output_type": "execute_result"
    }
   ],
   "source": [
    "(rrr).size"
   ]
  },
  {
   "cell_type": "code",
   "execution_count": 46,
   "metadata": {},
   "outputs": [
    {
     "data": {
      "image/png": "[encoded data removed]",
      "text/plain": [
       "<Figure size 432x288 with 1 Axes>"
      ]
     },
     "metadata": {},
     "output_type": "display_data"
    }
   ],
   "source": [
    "plt.hist(df[3][df[3]>-0.001],log=1,bins=100)\n",
    "ax = plt.gca()\n",
    "# ax.set_xscale('log')"
   ]
  },
  {
   "cell_type": "code",
   "execution_count": 64,
   "metadata": {},
   "outputs": [
    {
     "data": {
      "text/plain": [
       "array([     0,      1,      2, ..., 308762, 308763, 308764])"
      ]
     },
     "execution_count": 64,
     "metadata": {},
     "output_type": "execute_result"
    }
   ],
   "source": [
    "find_runs(df[3])[1]"
   ]
  },
  {
   "cell_type": "code",
   "execution_count": 112,
   "metadata": {},
   "outputs": [],
   "source": []
  },
  {
   "cell_type": "code",
   "execution_count": 113,
   "metadata": {},
   "outputs": [
    {
     "data": {
      "text/plain": [
       "(array([ 3, 10, 19, 40]), array([ 4,  4, 10,  2]))"
      ]
     },
     "execution_count": 113,
     "metadata": {},
     "output_type": "execute_result"
    }
   ],
   "source": [
    "aaa = [0,0,0,1,1,1,1,0,0,0,1,1,1,1,0,0,0,0,0,1,1,1,1,1,1,1,1,1,1,0,0,0,0,0,0,0,0,0,0,0,1,1]\n",
    "find_nonzero_runs(aaa)"
   ]
  },
  {
   "cell_type": "code",
   "execution_count": 102,
   "metadata": {},
   "outputs": [
    {
     "data": {
      "text/plain": [
       "array([-1, -1, -1, -1, -5, -1, -1, -1])"
      ]
     },
     "execution_count": 102,
     "metadata": {},
     "output_type": "execute_result"
    }
   ],
   "source": [
    "# cc[1:] - cc[:-1]\n",
    "cc\n",
    "cc[:-1]-cc[1:]"
   ]
  },
  {
   "cell_type": "code",
   "execution_count": 100,
   "metadata": {},
   "outputs": [
    {
     "data": {
      "text/plain": [
       "5"
      ]
     },
     "execution_count": 100,
     "metadata": {},
     "output_type": "execute_result"
    }
   ],
   "source": [
    "y[3:12].sum()"
   ]
  },
  {
   "cell_type": "code",
   "execution_count": null,
   "metadata": {},
   "outputs": [],
   "source": []
  }
 ],
 "metadata": {
  "kernelspec": {
   "display_name": "Python 3",
   "language": "python",
   "name": "python3"
  },
  "language_info": {
   "codemirror_mode": {
    "name": "ipython",
    "version": 3
   },
   "file_extension": ".py",
   "mimetype": "text/x-python",
   "name": "python",
   "nbconvert_exporter": "python",
   "pygments_lexer": "ipython3",
   "version": "3.6.5"
  }
 },
 "nbformat": 4,
 "nbformat_minor": 2
}
